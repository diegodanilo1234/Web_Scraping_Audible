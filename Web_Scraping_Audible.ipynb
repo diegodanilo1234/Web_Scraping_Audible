{
 "cells": [
  {
   "cell_type": "markdown",
   "id": "258c7fda-292f-4d82-998f-98a13aeb5ba6",
   "metadata": {},
   "source": [
    "# Proyecto Web Scraping a Audible"
   ]
  },
  {
   "cell_type": "code",
   "execution_count": 16,
   "id": "36598448-e439-4140-a140-450ec99581ee",
   "metadata": {},
   "outputs": [],
   "source": [
    "# Cargamos las librerias\n",
    "from selenium import webdriver\n",
    "import pandas as pd\n",
    "import time"
   ]
  },
  {
   "cell_type": "markdown",
   "id": "3c047139-c39f-46c3-8377-63f9a1f795f2",
   "metadata": {},
   "source": [
    "## 1. Obtener datos de la primera página"
   ]
  },
  {
   "cell_type": "code",
   "execution_count": 10,
   "id": "01d3130d-52a3-4d73-8107-873f018dbb2c",
   "metadata": {},
   "outputs": [
    {
     "name": "stderr",
     "output_type": "stream",
     "text": [
      "C:\\Users\\DANILO\\AppData\\Local\\Temp/ipykernel_4704/2155676304.py:4: DeprecationWarning: executable_path has been deprecated, please pass in a Service object\n",
      "  driver = webdriver.Chrome(path)\n",
      "C:\\Users\\DANILO\\AppData\\Local\\Temp/ipykernel_4704/2155676304.py:8: DeprecationWarning: find_element_by_* commands are deprecated. Please use find_element() instead\n",
      "  container = driver.find_element_by_class_name(\"adbl-impression-container \")\n",
      "C:\\Users\\DANILO\\AppData\\Local\\Programs\\Python\\Python310\\lib\\site-packages\\selenium\\webdriver\\remote\\webelement.py:426: UserWarning: find_elements_by_* commands are deprecated. Please use find_elements() instead\n",
      "  warnings.warn(\"find_elements_by_* commands are deprecated. Please use find_elements() instead\")\n",
      "C:\\Users\\DANILO\\AppData\\Local\\Programs\\Python\\Python310\\lib\\site-packages\\selenium\\webdriver\\remote\\webelement.py:393: UserWarning: find_element_by_* commands are deprecated. Please use find_element() instead\n",
      "  warnings.warn(\"find_element_by_* commands are deprecated. Please use find_element() instead\")\n"
     ]
    }
   ],
   "source": [
    "# Creamos la variable web y el driver\n",
    "web =  \"https://www.audible.com/adblbestsellers?ref=a_search_t1_navTop_pl0cg1c0r0&pf_rd_p=adc4b13b-d074-4e1c-ac46-9f54aa53072b&pf_rd_r=1F7DV0MPHV77Z61RX566\"\n",
    "path = \"C:\\\\Users\\\\DANILO\\Downloads\\\\chromedriver_win32\\\\chromedriver.exe\"\n",
    "driver = webdriver.Chrome(path)\n",
    "driver.get(web)\n",
    "driver.maximize_window()\n",
    "\n",
    "# Creamos la variable container y products\n",
    "container = driver.find_element_by_class_name(\"adbl-impression-container \")\n",
    "products = container.find_elements_by_xpath(\"./li\")\n",
    "\n",
    "# Creamos 3 listas que almacenaran los datos\n",
    "book_title = []\n",
    "book_author = []\n",
    "book_length = []\n",
    "\n",
    "for product in products:\n",
    "    book_title.append(product.find_element_by_xpath('.//h3[contains(@class, \"bc-heading\")]').text)  \n",
    "    book_author.append(product.find_element_by_xpath('.//li[contains(@class, \"authorLabel\")]').text)\n",
    "    book_length.append(product.find_element_by_xpath('.//li[contains(@class, \"runtimeLabel\")]').text)\n",
    "\n",
    "driver.quit()\n",
    "\n",
    "# Creamos un dataframe y exportando a un archivo CSV\n",
    "df_books = pd.DataFrame({'title': book_title, 'author': book_author, 'length': book_length})\n",
    "df_books.to_csv('books.csv', index=False)\n",
    "\n",
    "    \n"
   ]
  },
  {
   "cell_type": "code",
   "execution_count": 14,
   "id": "bc82f8f0-de82-437f-9cfc-725fe5ba772a",
   "metadata": {},
   "outputs": [
    {
     "data": {
      "text/html": [
       "<div>\n",
       "<style scoped>\n",
       "    .dataframe tbody tr th:only-of-type {\n",
       "        vertical-align: middle;\n",
       "    }\n",
       "\n",
       "    .dataframe tbody tr th {\n",
       "        vertical-align: top;\n",
       "    }\n",
       "\n",
       "    .dataframe thead th {\n",
       "        text-align: right;\n",
       "    }\n",
       "</style>\n",
       "<table border=\"1\" class=\"dataframe\">\n",
       "  <thead>\n",
       "    <tr style=\"text-align: right;\">\n",
       "      <th></th>\n",
       "      <th>title</th>\n",
       "      <th>author</th>\n",
       "      <th>length</th>\n",
       "    </tr>\n",
       "  </thead>\n",
       "  <tbody>\n",
       "    <tr>\n",
       "      <th>0</th>\n",
       "      <td>Atlas of the Heart</td>\n",
       "      <td>By: Brené Brown</td>\n",
       "      <td>Length: 12 hrs</td>\n",
       "    </tr>\n",
       "    <tr>\n",
       "      <th>1</th>\n",
       "      <td>He Who Fights with Monsters 5</td>\n",
       "      <td>By: Shirtaloon, Travis Deverell</td>\n",
       "      <td>Length: 20 hrs and 47 mins</td>\n",
       "    </tr>\n",
       "    <tr>\n",
       "      <th>2</th>\n",
       "      <td>Monster's Mercy: Book 3</td>\n",
       "      <td>By: William D. Arand</td>\n",
       "      <td>Length: 13 hrs and 16 mins</td>\n",
       "    </tr>\n",
       "    <tr>\n",
       "      <th>3</th>\n",
       "      <td>House of Sky and Breath</td>\n",
       "      <td>By: Sarah J. Maas</td>\n",
       "      <td>Length: Not Yet Known</td>\n",
       "    </tr>\n",
       "    <tr>\n",
       "      <th>4</th>\n",
       "      <td>The Girl in the Mist</td>\n",
       "      <td>By: Kristen Ashley</td>\n",
       "      <td>Length: 12 hrs and 22 mins</td>\n",
       "    </tr>\n",
       "  </tbody>\n",
       "</table>\n",
       "</div>"
      ],
      "text/plain": [
       "                           title                           author  \\\n",
       "0             Atlas of the Heart                  By: Brené Brown   \n",
       "1  He Who Fights with Monsters 5  By: Shirtaloon, Travis Deverell   \n",
       "2        Monster's Mercy: Book 3             By: William D. Arand   \n",
       "3        House of Sky and Breath                By: Sarah J. Maas   \n",
       "4           The Girl in the Mist               By: Kristen Ashley   \n",
       "\n",
       "                       length  \n",
       "0              Length: 12 hrs  \n",
       "1  Length: 20 hrs and 47 mins  \n",
       "2  Length: 13 hrs and 16 mins  \n",
       "3       Length: Not Yet Known  \n",
       "4  Length: 12 hrs and 22 mins  "
      ]
     },
     "execution_count": 14,
     "metadata": {},
     "output_type": "execute_result"
    }
   ],
   "source": [
    "# Cargamos el dataset\n",
    "Audio_Books = pd.read_csv(\"C:\\\\Users\\\\DANILO\\\\books.csv\")\n",
    "\n",
    "Audio_Books.head()"
   ]
  },
  {
   "cell_type": "markdown",
   "id": "b3313be9-9e63-4ef7-9175-495ad5a14b1c",
   "metadata": {},
   "source": [
    "## 2. Obtener los datos de páginación"
   ]
  },
  {
   "cell_type": "code",
   "execution_count": 18,
   "id": "b1eebb2d-ec4a-46b6-a7b7-4381e424c9b6",
   "metadata": {},
   "outputs": [
    {
     "name": "stderr",
     "output_type": "stream",
     "text": [
      "C:\\Users\\DANILO\\AppData\\Local\\Temp/ipykernel_4704/3382269874.py:4: DeprecationWarning: executable_path has been deprecated, please pass in a Service object\n",
      "  driver = webdriver.Chrome(path)\n",
      "C:\\Users\\DANILO\\AppData\\Local\\Temp/ipykernel_4704/3382269874.py:9: DeprecationWarning: find_element_by_* commands are deprecated. Please use find_element() instead\n",
      "  pagination = driver.find_element_by_xpath('//ul[contains(@class, \"pagingElements\")]')  # localizando la barra de paginacion\n",
      "C:\\Users\\DANILO\\AppData\\Local\\Programs\\Python\\Python310\\lib\\site-packages\\selenium\\webdriver\\remote\\webelement.py:359: UserWarning: find_elements_by_* commands are deprecated. Please use find_elements() instead\n",
      "  warnings.warn(\"find_elements_by_* commands are deprecated. Please use find_elements() instead\")\n",
      "C:\\Users\\DANILO\\AppData\\Local\\Temp/ipykernel_4704/3382269874.py:23: DeprecationWarning: find_element_by_* commands are deprecated. Please use find_element() instead\n",
      "  container = driver.find_element_by_class_name('adbl-impression-container ')\n",
      "C:\\Users\\DANILO\\AppData\\Local\\Programs\\Python\\Python310\\lib\\site-packages\\selenium\\webdriver\\remote\\webelement.py:426: UserWarning: find_elements_by_* commands are deprecated. Please use find_elements() instead\n",
      "  warnings.warn(\"find_elements_by_* commands are deprecated. Please use find_elements() instead\")\n",
      "C:\\Users\\DANILO\\AppData\\Local\\Programs\\Python\\Python310\\lib\\site-packages\\selenium\\webdriver\\remote\\webelement.py:393: UserWarning: find_element_by_* commands are deprecated. Please use find_element() instead\n",
      "  warnings.warn(\"find_element_by_* commands are deprecated. Please use find_element() instead\")\n",
      "C:\\Users\\DANILO\\AppData\\Local\\Temp/ipykernel_4704/3382269874.py:34: DeprecationWarning: find_element_by_* commands are deprecated. Please use find_element() instead\n",
      "  next_page = driver.find_element_by_xpath('.//span[contains(@class , \"nextButton\")]')\n"
     ]
    }
   ],
   "source": [
    "# Creamos la variable web con la páginación\n",
    "web = \"https://www.audible.com/adblbestsellers?ref=a_search_t1_navTop_pl0cg1c0r0&pf_rd_p=adc4b13b-d074-4e1c-ac46-9f54aa53072b&pf_rd_r=1F7DV0MPHV77Z61RX566\"\n",
    "path = \"C:\\\\Users\\\\DANILO\\Downloads\\\\chromedriver_win32\\\\chromedriver.exe\"\n",
    "driver = webdriver.Chrome(path)\n",
    "driver.get(web)\n",
    "driver.maximize_window()\n",
    "\n",
    "# Paginación 1\n",
    "pagination = driver.find_element_by_xpath('//ul[contains(@class, \"pagingElements\")]')  # localizamos la barra de páginación\n",
    "pages = pagination.find_elements_by_tag_name('li')   # localizando cada pagina mostrada en la barra de paginacion\n",
    "last_page = int(pages[-2].text)  # obtener la ultima pagina usando index de numeros negativos (index negativo empieza donde termina la lista)\n",
    "\n",
    "book_title = []\n",
    "book_author = []\n",
    "book_length = []\n",
    "\n",
    "# Paginación 2\n",
    "current_page = 1   # esta es la pagina actual (current_page) donde el bot empieza a hacer web scraping\n",
    "\n",
    "# El \"bucle while\" va a trabajar hasta que el bot llegue a la ultima pagina del website, luego el bucle se cortara\n",
    "while current_page <= last_page:\n",
    "    time.sleep(2)  # dejar que la pagina cargue correctamente\n",
    "    container = driver.find_element_by_class_name('adbl-impression-container ')\n",
    "    products = container.find_elements_by_xpath('./li')\n",
    "\n",
    "    for product in products:\n",
    "        book_title.append(product.find_element_by_xpath('.//h3[contains(@class, \"bc-heading\")]').text)\n",
    "        book_author.append(product.find_element_by_xpath('.//li[contains(@class, \"authorLabel\")]').text)\n",
    "        book_length.append(product.find_element_by_xpath('.//li[contains(@class, \"runtimeLabel\")]').text)\n",
    "\n",
    "    current_page = current_page + 1  # incrementar la pagina_actual (current_page) en 1, luego de que la data es extraida\n",
    "    # Localizar el boton siguiente_pagina (next_page) y hacer click en el boton. Si el elemento no esta en la pagina, pasar a la siguiente iteración\n",
    "    try:\n",
    "        next_page = driver.find_element_by_xpath('.//span[contains(@class , \"nextButton\")]')\n",
    "        next_page.click()\n",
    "    except:\n",
    "        pass\n",
    "\n",
    "driver.quit()\n",
    "df_books = pd.DataFrame({'title': book_title, 'author': book_author, 'length': book_length})\n",
    "df_books.to_csv('books_pagination.csv', index=False)\n"
   ]
  },
  {
   "cell_type": "code",
   "execution_count": 20,
   "id": "b950b76e-34b1-47fb-a262-32befac3ad2d",
   "metadata": {},
   "outputs": [
    {
     "data": {
      "text/html": [
       "<div>\n",
       "<style scoped>\n",
       "    .dataframe tbody tr th:only-of-type {\n",
       "        vertical-align: middle;\n",
       "    }\n",
       "\n",
       "    .dataframe tbody tr th {\n",
       "        vertical-align: top;\n",
       "    }\n",
       "\n",
       "    .dataframe thead th {\n",
       "        text-align: right;\n",
       "    }\n",
       "</style>\n",
       "<table border=\"1\" class=\"dataframe\">\n",
       "  <thead>\n",
       "    <tr style=\"text-align: right;\">\n",
       "      <th></th>\n",
       "      <th>title</th>\n",
       "      <th>author</th>\n",
       "      <th>length</th>\n",
       "    </tr>\n",
       "  </thead>\n",
       "  <tbody>\n",
       "    <tr>\n",
       "      <th>0</th>\n",
       "      <td>1. Atomic Habits</td>\n",
       "      <td>By: James Clear</td>\n",
       "      <td>Length: 5 hrs and 35 mins</td>\n",
       "    </tr>\n",
       "    <tr>\n",
       "      <th>1</th>\n",
       "      <td>2. Project Hail Mary</td>\n",
       "      <td>By: Andy Weir</td>\n",
       "      <td>Length: 16 hrs and 10 mins</td>\n",
       "    </tr>\n",
       "    <tr>\n",
       "      <th>2</th>\n",
       "      <td>3. Will</td>\n",
       "      <td>By: Will Smith, Mark Manson</td>\n",
       "      <td>Length: 16 hrs and 16 mins</td>\n",
       "    </tr>\n",
       "    <tr>\n",
       "      <th>3</th>\n",
       "      <td>4. Greenlights</td>\n",
       "      <td>By: Matthew McConaughey</td>\n",
       "      <td>Length: 6 hrs and 42 mins</td>\n",
       "    </tr>\n",
       "    <tr>\n",
       "      <th>4</th>\n",
       "      <td>5. The Great Glorious Goddamn of It All</td>\n",
       "      <td>By: Josh Ritter</td>\n",
       "      <td>Length: 6 hrs and 52 mins</td>\n",
       "    </tr>\n",
       "  </tbody>\n",
       "</table>\n",
       "</div>"
      ],
      "text/plain": [
       "                                     title                       author  \\\n",
       "0                         1. Atomic Habits              By: James Clear   \n",
       "1                     2. Project Hail Mary                By: Andy Weir   \n",
       "2                                  3. Will  By: Will Smith, Mark Manson   \n",
       "3                           4. Greenlights      By: Matthew McConaughey   \n",
       "4  5. The Great Glorious Goddamn of It All              By: Josh Ritter   \n",
       "\n",
       "                       length  \n",
       "0   Length: 5 hrs and 35 mins  \n",
       "1  Length: 16 hrs and 10 mins  \n",
       "2  Length: 16 hrs and 16 mins  \n",
       "3   Length: 6 hrs and 42 mins  \n",
       "4   Length: 6 hrs and 52 mins  "
      ]
     },
     "execution_count": 20,
     "metadata": {},
     "output_type": "execute_result"
    }
   ],
   "source": [
    "# Cargamos el dataset\n",
    "df_AudioBook_pagination = pd.read_csv(\"C:\\\\Users\\\\DANILO\\\\books_pagination.csv\")\n",
    "\n",
    "df_AudioBook_pagination.head()"
   ]
  },
  {
   "cell_type": "code",
   "execution_count": 21,
   "id": "6c74365f-dacf-4eb5-9c8c-e1a37f041cd1",
   "metadata": {},
   "outputs": [
    {
     "data": {
      "text/plain": [
       "(100, 3)"
      ]
     },
     "execution_count": 21,
     "metadata": {},
     "output_type": "execute_result"
    }
   ],
   "source": [
    "\n",
    "df_AudioBook_pagination.shape"
   ]
  }
 ],
 "metadata": {
  "kernelspec": {
   "display_name": "Python 3 (ipykernel)",
   "language": "python",
   "name": "python3"
  },
  "language_info": {
   "codemirror_mode": {
    "name": "ipython",
    "version": 3
   },
   "file_extension": ".py",
   "mimetype": "text/x-python",
   "name": "python",
   "nbconvert_exporter": "python",
   "pygments_lexer": "ipython3",
   "version": "3.10.1"
  }
 },
 "nbformat": 4,
 "nbformat_minor": 5
}
